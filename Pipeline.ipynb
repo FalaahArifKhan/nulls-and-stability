{
 "cells": [
  {
   "cell_type": "code",
   "execution_count": 1,
   "id": "1b1e8170",
   "metadata": {},
   "outputs": [],
   "source": [
    "%reload_ext autoreload\n",
    "%autoreload 2\n",
    "\n",
    "import pandas as pd\n",
    "import copy\n",
    "import numpy as np\n",
    "import scipy as sp\n",
    "from functools import partial\n",
    "import json\n",
    "from sklearn.model_selection import GridSearchCV\n",
    "from sklearn.tree import DecisionTreeClassifier\n",
    "from sklearn.metrics import confusion_matrix\n",
    "import matplotlib.pyplot as plt\n",
    "\n",
    "from utils.data_loader import *\n",
    "from utils.analysis_utils import *\n",
    "from utils.null_simulator import *\n",
    "from NullAnalysis import *\n",
    "from NullImputer import *\n",
    "from NullPredictor import *\n",
    "\n",
    "results = json.load(open('results.json'))"
   ]
  },
  {
   "cell_type": "code",
   "execution_count": 2,
   "id": "060449c6",
   "metadata": {},
   "outputs": [
    {
     "name": "stdout",
     "output_type": "stream",
     "text": [
      "Downloading data for 2018 1-Year person survey for GA...\n"
     ]
    },
    {
     "data": {
      "text/html": [
       "<div>\n",
       "<style scoped>\n",
       "    .dataframe tbody tr th:only-of-type {\n",
       "        vertical-align: middle;\n",
       "    }\n",
       "\n",
       "    .dataframe tbody tr th {\n",
       "        vertical-align: top;\n",
       "    }\n",
       "\n",
       "    .dataframe thead th {\n",
       "        text-align: right;\n",
       "    }\n",
       "</style>\n",
       "<table border=\"1\" class=\"dataframe\">\n",
       "  <thead>\n",
       "    <tr style=\"text-align: right;\">\n",
       "      <th></th>\n",
       "      <th>AGEP</th>\n",
       "      <th>SCHL</th>\n",
       "      <th>MAR</th>\n",
       "      <th>RELP</th>\n",
       "      <th>DIS</th>\n",
       "      <th>ESP</th>\n",
       "      <th>CIT</th>\n",
       "      <th>MIG</th>\n",
       "      <th>MIL</th>\n",
       "      <th>ANC</th>\n",
       "      <th>NATIVITY</th>\n",
       "      <th>DEAR</th>\n",
       "      <th>DEYE</th>\n",
       "      <th>DREM</th>\n",
       "      <th>SEX</th>\n",
       "      <th>RAC1P</th>\n",
       "    </tr>\n",
       "  </thead>\n",
       "  <tbody>\n",
       "    <tr>\n",
       "      <th>0</th>\n",
       "      <td>51</td>\n",
       "      <td>13.0</td>\n",
       "      <td>5</td>\n",
       "      <td>16</td>\n",
       "      <td>2</td>\n",
       "      <td>0.0</td>\n",
       "      <td>1</td>\n",
       "      <td>3.0</td>\n",
       "      <td>4.0</td>\n",
       "      <td>1</td>\n",
       "      <td>1</td>\n",
       "      <td>2</td>\n",
       "      <td>2</td>\n",
       "      <td>2.0</td>\n",
       "      <td>1</td>\n",
       "      <td>2</td>\n",
       "    </tr>\n",
       "    <tr>\n",
       "      <th>1</th>\n",
       "      <td>56</td>\n",
       "      <td>16.0</td>\n",
       "      <td>3</td>\n",
       "      <td>16</td>\n",
       "      <td>1</td>\n",
       "      <td>0.0</td>\n",
       "      <td>1</td>\n",
       "      <td>1.0</td>\n",
       "      <td>4.0</td>\n",
       "      <td>4</td>\n",
       "      <td>1</td>\n",
       "      <td>2</td>\n",
       "      <td>1</td>\n",
       "      <td>2.0</td>\n",
       "      <td>2</td>\n",
       "      <td>1</td>\n",
       "    </tr>\n",
       "    <tr>\n",
       "      <th>2</th>\n",
       "      <td>23</td>\n",
       "      <td>20.0</td>\n",
       "      <td>5</td>\n",
       "      <td>17</td>\n",
       "      <td>1</td>\n",
       "      <td>0.0</td>\n",
       "      <td>1</td>\n",
       "      <td>1.0</td>\n",
       "      <td>4.0</td>\n",
       "      <td>4</td>\n",
       "      <td>1</td>\n",
       "      <td>2</td>\n",
       "      <td>2</td>\n",
       "      <td>1.0</td>\n",
       "      <td>2</td>\n",
       "      <td>2</td>\n",
       "    </tr>\n",
       "    <tr>\n",
       "      <th>3</th>\n",
       "      <td>43</td>\n",
       "      <td>17.0</td>\n",
       "      <td>1</td>\n",
       "      <td>16</td>\n",
       "      <td>2</td>\n",
       "      <td>0.0</td>\n",
       "      <td>1</td>\n",
       "      <td>1.0</td>\n",
       "      <td>4.0</td>\n",
       "      <td>1</td>\n",
       "      <td>1</td>\n",
       "      <td>2</td>\n",
       "      <td>2</td>\n",
       "      <td>2.0</td>\n",
       "      <td>1</td>\n",
       "      <td>2</td>\n",
       "    </tr>\n",
       "    <tr>\n",
       "      <th>4</th>\n",
       "      <td>20</td>\n",
       "      <td>19.0</td>\n",
       "      <td>5</td>\n",
       "      <td>16</td>\n",
       "      <td>2</td>\n",
       "      <td>0.0</td>\n",
       "      <td>1</td>\n",
       "      <td>1.0</td>\n",
       "      <td>4.0</td>\n",
       "      <td>1</td>\n",
       "      <td>1</td>\n",
       "      <td>2</td>\n",
       "      <td>2</td>\n",
       "      <td>2.0</td>\n",
       "      <td>2</td>\n",
       "      <td>1</td>\n",
       "    </tr>\n",
       "    <tr>\n",
       "      <th>...</th>\n",
       "      <td>...</td>\n",
       "      <td>...</td>\n",
       "      <td>...</td>\n",
       "      <td>...</td>\n",
       "      <td>...</td>\n",
       "      <td>...</td>\n",
       "      <td>...</td>\n",
       "      <td>...</td>\n",
       "      <td>...</td>\n",
       "      <td>...</td>\n",
       "      <td>...</td>\n",
       "      <td>...</td>\n",
       "      <td>...</td>\n",
       "      <td>...</td>\n",
       "      <td>...</td>\n",
       "      <td>...</td>\n",
       "    </tr>\n",
       "    <tr>\n",
       "      <th>100850</th>\n",
       "      <td>51</td>\n",
       "      <td>21.0</td>\n",
       "      <td>1</td>\n",
       "      <td>1</td>\n",
       "      <td>2</td>\n",
       "      <td>0.0</td>\n",
       "      <td>1</td>\n",
       "      <td>1.0</td>\n",
       "      <td>4.0</td>\n",
       "      <td>3</td>\n",
       "      <td>1</td>\n",
       "      <td>2</td>\n",
       "      <td>2</td>\n",
       "      <td>2.0</td>\n",
       "      <td>2</td>\n",
       "      <td>1</td>\n",
       "    </tr>\n",
       "    <tr>\n",
       "      <th>100851</th>\n",
       "      <td>18</td>\n",
       "      <td>16.0</td>\n",
       "      <td>5</td>\n",
       "      <td>2</td>\n",
       "      <td>2</td>\n",
       "      <td>0.0</td>\n",
       "      <td>1</td>\n",
       "      <td>1.0</td>\n",
       "      <td>4.0</td>\n",
       "      <td>3</td>\n",
       "      <td>1</td>\n",
       "      <td>2</td>\n",
       "      <td>2</td>\n",
       "      <td>2.0</td>\n",
       "      <td>2</td>\n",
       "      <td>1</td>\n",
       "    </tr>\n",
       "    <tr>\n",
       "      <th>100852</th>\n",
       "      <td>46</td>\n",
       "      <td>21.0</td>\n",
       "      <td>5</td>\n",
       "      <td>0</td>\n",
       "      <td>2</td>\n",
       "      <td>0.0</td>\n",
       "      <td>1</td>\n",
       "      <td>3.0</td>\n",
       "      <td>4.0</td>\n",
       "      <td>3</td>\n",
       "      <td>1</td>\n",
       "      <td>2</td>\n",
       "      <td>2</td>\n",
       "      <td>2.0</td>\n",
       "      <td>2</td>\n",
       "      <td>2</td>\n",
       "    </tr>\n",
       "    <tr>\n",
       "      <th>100853</th>\n",
       "      <td>48</td>\n",
       "      <td>20.0</td>\n",
       "      <td>4</td>\n",
       "      <td>0</td>\n",
       "      <td>1</td>\n",
       "      <td>0.0</td>\n",
       "      <td>1</td>\n",
       "      <td>1.0</td>\n",
       "      <td>4.0</td>\n",
       "      <td>1</td>\n",
       "      <td>1</td>\n",
       "      <td>2</td>\n",
       "      <td>2</td>\n",
       "      <td>2.0</td>\n",
       "      <td>2</td>\n",
       "      <td>2</td>\n",
       "    </tr>\n",
       "    <tr>\n",
       "      <th>100854</th>\n",
       "      <td>86</td>\n",
       "      <td>16.0</td>\n",
       "      <td>2</td>\n",
       "      <td>0</td>\n",
       "      <td>1</td>\n",
       "      <td>0.0</td>\n",
       "      <td>1</td>\n",
       "      <td>1.0</td>\n",
       "      <td>4.0</td>\n",
       "      <td>1</td>\n",
       "      <td>1</td>\n",
       "      <td>1</td>\n",
       "      <td>2</td>\n",
       "      <td>1.0</td>\n",
       "      <td>2</td>\n",
       "      <td>1</td>\n",
       "    </tr>\n",
       "  </tbody>\n",
       "</table>\n",
       "<p>100855 rows × 16 columns</p>\n",
       "</div>"
      ],
      "text/plain": [
       "        AGEP  SCHL  MAR  RELP  DIS  ESP  CIT  MIG  MIL  ANC  NATIVITY  DEAR  \\\n",
       "0         51  13.0    5    16    2  0.0    1  3.0  4.0    1         1     2   \n",
       "1         56  16.0    3    16    1  0.0    1  1.0  4.0    4         1     2   \n",
       "2         23  20.0    5    17    1  0.0    1  1.0  4.0    4         1     2   \n",
       "3         43  17.0    1    16    2  0.0    1  1.0  4.0    1         1     2   \n",
       "4         20  19.0    5    16    2  0.0    1  1.0  4.0    1         1     2   \n",
       "...      ...   ...  ...   ...  ...  ...  ...  ...  ...  ...       ...   ...   \n",
       "100850    51  21.0    1     1    2  0.0    1  1.0  4.0    3         1     2   \n",
       "100851    18  16.0    5     2    2  0.0    1  1.0  4.0    3         1     2   \n",
       "100852    46  21.0    5     0    2  0.0    1  3.0  4.0    3         1     2   \n",
       "100853    48  20.0    4     0    1  0.0    1  1.0  4.0    1         1     2   \n",
       "100854    86  16.0    2     0    1  0.0    1  1.0  4.0    1         1     1   \n",
       "\n",
       "        DEYE  DREM  SEX  RAC1P  \n",
       "0          2   2.0    1      2  \n",
       "1          1   2.0    2      1  \n",
       "2          2   1.0    2      2  \n",
       "3          2   2.0    1      2  \n",
       "4          2   2.0    2      1  \n",
       "...      ...   ...  ...    ...  \n",
       "100850     2   2.0    2      1  \n",
       "100851     2   2.0    2      1  \n",
       "100852     2   2.0    2      2  \n",
       "100853     2   2.0    2      2  \n",
       "100854     2   1.0    2      1  \n",
       "\n",
       "[100855 rows x 16 columns]"
      ]
     },
     "execution_count": 2,
     "metadata": {},
     "output_type": "execute_result"
    }
   ],
   "source": [
    "dataset = ACSEmploymentDataset(state=['GA'], year=2018, with_nulls=False, optimize=False)\n",
    "dataset.X_data"
   ]
  },
  {
   "cell_type": "code",
   "execution_count": 3,
   "id": "81730822",
   "metadata": {},
   "outputs": [
    {
     "data": {
      "text/plain": [
       "[]"
      ]
     },
     "execution_count": 3,
     "metadata": {},
     "output_type": "execute_result"
    }
   ],
   "source": [
    "dataset.columns_with_nulls"
   ]
  },
  {
   "cell_type": "code",
   "execution_count": 23,
   "id": "1574488d",
   "metadata": {},
   "outputs": [],
   "source": [
    "corrupted_data = nulls_simulator(dataset.X_data, 'DIS', 'DIS', [1], 0.75, nan_value=np.nan)\n",
    "corrupted_data_ = nulls_simulator(corrupted_data, 'DIS', 'DIS', [2], 0.25, nan_value=np.nan)"
   ]
  },
  {
   "cell_type": "code",
   "execution_count": 24,
   "id": "f5ab9c49",
   "metadata": {},
   "outputs": [
    {
     "data": {
      "text/plain": [
       "True"
      ]
     },
     "execution_count": 24,
     "metadata": {},
     "output_type": "execute_result"
    }
   ],
   "source": [
    "# Sanity check: Making sure indexes are consistent between the original and corrupted dataset\n",
    "corrupted_data_.index.to_list().sort() == dataset.X_data.index.to_list().sort()"
   ]
  },
  {
   "cell_type": "code",
   "execution_count": 25,
   "id": "e9f6fe49",
   "metadata": {},
   "outputs": [
    {
     "data": {
      "text/plain": [
       "AGEP            0\n",
       "SCHL            0\n",
       "MAR             0\n",
       "RELP            0\n",
       "DIS         32509\n",
       "ESP             0\n",
       "CIT             0\n",
       "MIG             0\n",
       "MIL             0\n",
       "ANC             0\n",
       "NATIVITY        0\n",
       "DEAR            0\n",
       "DEYE            0\n",
       "DREM            0\n",
       "SEX             0\n",
       "RAC1P           0\n",
       "dtype: int64"
      ]
     },
     "execution_count": 25,
     "metadata": {},
     "output_type": "execute_result"
    }
   ],
   "source": [
    "corrupted_data_.isna().sum()"
   ]
  },
  {
   "cell_type": "code",
   "execution_count": 26,
   "id": "5855196d",
   "metadata": {},
   "outputs": [
    {
     "data": {
      "text/plain": [
       "2.0    64698\n",
       "1.0     3648\n",
       "Name: DIS, dtype: int64"
      ]
     },
     "execution_count": 26,
     "metadata": {},
     "output_type": "execute_result"
    }
   ],
   "source": [
    "corrupted_data_.DIS.value_counts()"
   ]
  },
  {
   "cell_type": "code",
   "execution_count": 27,
   "id": "291042f3",
   "metadata": {},
   "outputs": [
    {
     "data": {
      "text/plain": [
       "2    86264\n",
       "1    14591\n",
       "Name: DIS, dtype: int64"
      ]
     },
     "execution_count": 27,
     "metadata": {},
     "output_type": "execute_result"
    }
   ],
   "source": [
    "dataset.X_data.DIS.value_counts()"
   ]
  },
  {
   "cell_type": "code",
   "execution_count": 28,
   "id": "85e501bb",
   "metadata": {},
   "outputs": [],
   "source": [
    "dataset_with_nulls = copy.deepcopy(dataset)\n",
    "dataset_with_nulls.update_X_data(corrupted_data_)"
   ]
  },
  {
   "cell_type": "code",
   "execution_count": 29,
   "id": "ebe05403",
   "metadata": {},
   "outputs": [
    {
     "data": {
      "text/plain": [
       "['DIS']"
      ]
     },
     "execution_count": 29,
     "metadata": {},
     "output_type": "execute_result"
    }
   ],
   "source": [
    "dataset_with_nulls.columns_with_nulls"
   ]
  },
  {
   "cell_type": "code",
   "execution_count": 30,
   "id": "0a34efef",
   "metadata": {},
   "outputs": [],
   "source": [
    "baseline = NullAnalysis(dataset, ['SEX','RAC1P'], [1,1])\n",
    "data_with_nulls = NullAnalysis(dataset_with_nulls, ['SEX','RAC1P'], [1,1])"
   ]
  },
  {
   "cell_type": "code",
   "execution_count": 31,
   "id": "2f5d8b9e",
   "metadata": {},
   "outputs": [
    {
     "data": {
      "text/plain": [
       "((60513, 16), (20171, 16), (20171, 16))"
      ]
     },
     "execution_count": 31,
     "metadata": {},
     "output_type": "execute_result"
    }
   ],
   "source": [
    "X_train, y_train, X_test, y_test, X_val, y_val = data_with_nulls.create_train_test_val_split(SEED=111)\n",
    "X_train.shape, X_test.shape, X_val.shape"
   ]
  },
  {
   "cell_type": "code",
   "execution_count": 32,
   "id": "e7eca36c",
   "metadata": {},
   "outputs": [
    {
     "data": {
      "text/plain": [
       "((60513, 16), (60513,), (20171, 16))"
      ]
     },
     "execution_count": 32,
     "metadata": {},
     "output_type": "execute_result"
    }
   ],
   "source": [
    "X_train_base, X_test_base, y_train_base, y_test_base, X_val_base, y_val_base = baseline.set_train_test_val_data_by_index(data_with_nulls.X_train.index, data_with_nulls.X_test.index, data_with_nulls.X_val.index)\n",
    "X_train_base.shape, X_test_base.shape, X_val_base.shape"
   ]
  },
  {
   "cell_type": "code",
   "execution_count": null,
   "id": "53a4f00d",
   "metadata": {},
   "outputs": [],
   "source": []
  }
 ],
 "metadata": {
  "kernelspec": {
   "display_name": "Python 3 (ipykernel)",
   "language": "python",
   "name": "python3"
  },
  "language_info": {
   "codemirror_mode": {
    "name": "ipython",
    "version": 3
   },
   "file_extension": ".py",
   "mimetype": "text/x-python",
   "name": "python",
   "nbconvert_exporter": "python",
   "pygments_lexer": "ipython3",
   "version": "3.9.7"
  }
 },
 "nbformat": 4,
 "nbformat_minor": 5
}
